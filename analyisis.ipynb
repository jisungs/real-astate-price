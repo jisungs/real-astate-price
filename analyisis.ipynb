{
 "cells": [
  {
   "cell_type": "code",
   "execution_count": 29,
   "metadata": {},
   "outputs": [
    {
     "name": "stdout",
     "output_type": "stream",
     "text": [
      "출처: 행정기관(행정동) 및 관할구역(법정동) 변경내역(2024.8.1. 시행)\n",
      "2\n",
      "26350\n"
     ]
    },
    {
     "name": "stderr",
     "output_type": "stream",
     "text": [
      "/var/folders/c6/6wfgm821015bjb566w9t8wlh0000gn/T/ipykernel_14230/532226918.py:13: FutureWarning: Series.__getitem__ treating keys as positions is deprecated. In a future version, integer keys will always be treated as labels (consistent with DataFrame behavior). To access a value by position, use `ser.iloc[pos]`\n",
      "  print(result[1])\n"
     ]
    }
   ],
   "source": [
    "import PublicDataReader as pdr\n",
    "sido_name = \"부산\"\n",
    "sigungu_name = \"해운대구\"\n",
    "code = pdr.code_bdong()\n",
    "df = code.loc[(code['시도명'].str.contains(sido_name)) & (code['시군구명'].str.contains(sigungu_name)) &\n",
    "         (code['읍면동명']=='')]\n",
    "# df.head()\n",
    "result = df['시군구코드']\n",
    "\n",
    "print(result.iloc[1])\n",
    "\n",
    "if len(result) >= 2:\n",
    "    print(result[1])\n",
    "else:\n",
    "    print(result[0]) \n",
    "     \n"
   ]
  },
  {
   "cell_type": "code",
   "execution_count": 14,
   "metadata": {},
   "outputs": [
    {
     "name": "stdout",
     "output_type": "stream",
     "text": [
      "출처: 행정기관(행정동) 및 관할구역(법정동) 변경내역(2024.8.1. 시행)\n"
     ]
    },
    {
     "data": {
      "text/html": [
       "<div>\n",
       "<style scoped>\n",
       "    .dataframe tbody tr th:only-of-type {\n",
       "        vertical-align: middle;\n",
       "    }\n",
       "\n",
       "    .dataframe tbody tr th {\n",
       "        vertical-align: top;\n",
       "    }\n",
       "\n",
       "    .dataframe thead th {\n",
       "        text-align: right;\n",
       "    }\n",
       "</style>\n",
       "<table border=\"1\" class=\"dataframe\">\n",
       "  <thead>\n",
       "    <tr style=\"text-align: right;\">\n",
       "      <th></th>\n",
       "      <th>시도코드</th>\n",
       "      <th>시도명</th>\n",
       "      <th>시군구코드</th>\n",
       "      <th>시군구명</th>\n",
       "      <th>법정동코드</th>\n",
       "      <th>읍면동명</th>\n",
       "      <th>동리명</th>\n",
       "      <th>생성일자</th>\n",
       "      <th>말소일자</th>\n",
       "    </tr>\n",
       "  </thead>\n",
       "  <tbody>\n",
       "  </tbody>\n",
       "</table>\n",
       "</div>"
      ],
      "text/plain": [
       "Empty DataFrame\n",
       "Columns: [시도코드, 시도명, 시군구코드, 시군구명, 법정동코드, 읍면동명, 동리명, 생성일자, 말소일자]\n",
       "Index: []"
      ]
     },
     "execution_count": 14,
     "metadata": {},
     "output_type": "execute_result"
    }
   ],
   "source": [
    "\n",
    "sido_name = \"경남\"\n",
    "sigungu_name = \"마산합포구\"\n",
    "code = pdr.code_bdong()\n",
    "df = code.loc[(code['시도명'].str.contains(sido_name)) & (code['시군구명'].str.contains(sigungu_name)) &\n",
    "         (code['읍면동명']=='')]\n",
    "df.head()"
   ]
  },
  {
   "cell_type": "code",
   "execution_count": 4,
   "metadata": {},
   "outputs": [
    {
     "name": "stdout",
     "output_type": "stream",
     "text": [
      "출처: 행정기관(행정동) 및 관할구역(법정동) 변경내역(2024.8.1. 시행)\n"
     ]
    }
   ],
   "source": [
    "sigunguName = \"마산합포구\"\n",
    "connect_data = pdr.code_hdong_bdong() ##행정동 법정동 연결 데이터\n",
    "result = connect_data[connect_data['시군구명']==sigunguName]['시군구코드'].unique()"
   ]
  }
 ],
 "metadata": {
  "kernelspec": {
   "display_name": "env",
   "language": "python",
   "name": "python3"
  },
  "language_info": {
   "codemirror_mode": {
    "name": "ipython",
    "version": 3
   },
   "file_extension": ".py",
   "mimetype": "text/x-python",
   "name": "python",
   "nbconvert_exporter": "python",
   "pygments_lexer": "ipython3",
   "version": "3.11.3"
  }
 },
 "nbformat": 4,
 "nbformat_minor": 2
}
